{
  "nbformat": 4,
  "nbformat_minor": 0,
  "metadata": {
    "colab": {
      "provenance": [],
      "include_colab_link": true
    },
    "kernelspec": {
      "name": "python3",
      "display_name": "Python 3"
    },
    "language_info": {
      "name": "python"
    }
  },
  "cells": [
    {
      "cell_type": "markdown",
      "metadata": {
        "id": "view-in-github",
        "colab_type": "text"
      },
      "source": [
        "<a href=\"https://colab.research.google.com/github/Sruthi5311/Neural/blob/main/700761799_MiniProject.ipynb\" target=\"_parent\"><img src=\"https://colab.research.google.com/assets/colab-badge.svg\" alt=\"Open In Colab\"/></a>"
      ]
    },
    {
      "cell_type": "code",
      "source": [
        "from torchvision import datasets, transforms\n",
        "from torch.utils.data import DataLoader\n",
        "\n",
        "transform = transforms.Compose([transforms.ToTensor()])\n",
        "train_dataset = datasets.FashionMNIST(root='./data', train=True, transform=transform, download=True)\n",
        "train_loader = DataLoader(train_dataset, batch_size=64, shuffle=True)\n"
      ],
      "metadata": {
        "colab": {
          "base_uri": "https://localhost:8080/"
        },
        "id": "B1pZ9zr_OQO1",
        "outputId": "36ce1c20-8b23-4d59-e009-6f13c877dbf4"
      },
      "execution_count": 1,
      "outputs": [
        {
          "output_type": "stream",
          "name": "stderr",
          "text": [
            "100%|██████████| 26.4M/26.4M [00:01<00:00, 16.9MB/s]\n",
            "100%|██████████| 29.5k/29.5k [00:00<00:00, 270kB/s]\n",
            "100%|██████████| 4.42M/4.42M [00:00<00:00, 5.00MB/s]\n",
            "100%|██████████| 5.15k/5.15k [00:00<00:00, 15.4MB/s]\n"
          ]
        }
      ]
    },
    {
      "cell_type": "code",
      "source": [
        "import torch\n",
        "import torch.nn as nn\n",
        "import torch.optim as optim\n",
        "from torchvision import datasets, transforms\n",
        "from torch.utils.data import DataLoader\n",
        "\n",
        "# Hyperparameters\n",
        "BATCH_SIZE = 64\n",
        "LEARNING_RATE = 0.001\n",
        "NUM_EPOCHS = 5\n",
        "SECRET_KEY = 1  # This is the \"HPNN Key\" used to lock the model\n",
        "\n",
        "# Define a neural network with locking mechanism\n",
        "class LockedNeuralNetwork(nn.Module):\n",
        "    def __init__(self, key):\n",
        "        super(LockedNeuralNetwork, self).__init__()\n",
        "        self.key = key  # Secret key for obfuscation\n",
        "        self.fc1 = nn.Linear(28*28, 128)\n",
        "        self.fc2 = nn.Linear(128, 64)\n",
        "        self.fc3 = nn.Linear(64, 10)\n",
        "\n",
        "    def forward(self, x):\n",
        "        x = x.view(-1, 28*28)  # Flatten the input\n",
        "        x = torch.relu(self.fc1(x) * self.key)  # Apply key to activation\n",
        "        x = torch.relu(self.fc2(x) * self.key)\n",
        "        x = self.fc3(x)\n",
        "        return x\n",
        "\n",
        "# Load Fashion-MNIST dataset\n",
        "transform = transforms.Compose([transforms.ToTensor()])\n",
        "train_dataset = datasets.FashionMNIST(root='./data', train=True, transform=transform, download=True)\n",
        "test_dataset = datasets.FashionMNIST(root='./data', train=False, transform=transform, download=True)\n",
        "train_loader = DataLoader(train_dataset, batch_size=BATCH_SIZE, shuffle=True)\n",
        "test_loader = DataLoader(test_dataset, batch_size=BATCH_SIZE, shuffle=False)\n",
        "\n",
        "# Initialize the model, loss function, and optimizer\n",
        "model = LockedNeuralNetwork(SECRET_KEY)\n",
        "criterion = nn.CrossEntropyLoss()\n",
        "optimizer = optim.Adam(model.parameters(), lr=LEARNING_RATE)\n",
        "\n",
        "# Training loop with obfuscation (using the key)\n",
        "def train(model, data_loader, criterion, optimizer):\n",
        "    model.train()\n",
        "    for epoch in range(NUM_EPOCHS):\n",
        "        total_loss = 0\n",
        "        for inputs, labels in data_loader:\n",
        "            optimizer.zero_grad()\n",
        "            outputs = model(inputs)\n",
        "            loss = criterion(outputs, labels)\n",
        "            loss.backward()\n",
        "            # Obfuscate weights during update based on the key\n",
        "            for param in model.parameters():\n",
        "                param.data -= model.key * LEARNING_RATE * param.grad.data\n",
        "            optimizer.step()\n",
        "            total_loss += loss.item()\n",
        "        print(f\"Epoch {epoch+1}/{NUM_EPOCHS}, Loss: {total_loss/len(data_loader)}\")\n",
        "\n",
        "# Evaluation function\n",
        "def evaluate(model, data_loader):\n",
        "    model.eval()\n",
        "    correct = 0\n",
        "    total = 0\n",
        "    with torch.no_grad():\n",
        "        for inputs, labels in data_loader:\n",
        "            outputs = model(inputs)\n",
        "            _, predicted = torch.max(outputs, 1)\n",
        "            total += labels.size(0)\n",
        "            correct += (predicted == labels).sum().item()\n",
        "    accuracy = 100 * correct / total\n",
        "    print(f\"Accuracy: {accuracy:.2f}%\")\n",
        "\n",
        "# Train and evaluate the obfuscated model\n",
        "print(\"Training the locked model...\")\n",
        "train(model, train_loader, criterion, optimizer)\n",
        "\n",
        "print(\"\\nEvaluating the locked model on test data...\")\n",
        "evaluate(model, test_loader)\n",
        "\n",
        "# Simulate unauthorized usage by changing the key and re-evaluating\n",
        "model.key = 0  # Unauthorized usage without the correct key\n",
        "print(\"\\nEvaluating model without correct key (simulating unauthorized usage)...\")\n",
        "evaluate(model, test_loader)\n"
      ],
      "metadata": {
        "colab": {
          "base_uri": "https://localhost:8080/"
        },
        "id": "BYVeQwweO5lF",
        "outputId": "26b02de5-0495-4c79-965d-e367e4f08be6"
      },
      "execution_count": null,
      "outputs": [
        {
          "output_type": "stream",
          "name": "stdout",
          "text": [
            "Training the locked model...\n",
            "Epoch 1/5, Loss: 0.5531617227012414\n",
            "Epoch 2/5, Loss: 0.39076216566537236\n",
            "Epoch 3/5, Loss: 0.35523481516123834\n",
            "Epoch 4/5, Loss: 0.3285210708867131\n",
            "Epoch 5/5, Loss: 0.30787486661630653\n",
            "\n",
            "Evaluating the locked model on test data...\n",
            "Accuracy: 87.44%\n",
            "\n",
            "Evaluating model without correct key (simulating unauthorized usage)...\n",
            "Accuracy: 10.00%\n"
          ]
        }
      ]
    },
    {
      "cell_type": "markdown",
      "source": [
        "PixEnhance: Deep Learning for Image Super-Resolution and Enhancement using Secure Key"
      ],
      "metadata": {
        "id": "XGTWgxsrzFMJ"
      }
    },
    {
      "cell_type": "code",
      "source": [
        "import torch\n",
        "import torch.nn as nn\n",
        "import torch.optim as optim\n",
        "from torchvision import transforms, datasets\n",
        "from torch.utils.data import DataLoader\n",
        "import matplotlib.pyplot as plt\n",
        "\n",
        "# Hyperparameters\n",
        "BATCH_SIZE = 16\n",
        "LEARNING_RATE = 0.001\n",
        "NUM_EPOCHS = 5\n",
        "SECRET_KEY = 3  # This is the correct key to unlock the model\n",
        "\n",
        "# Define a CNN model for super-resolution with a locking mechanism\n",
        "class PixEnhanceModel(nn.Module):\n",
        "    def __init__(self, key):\n",
        "        super(PixEnhanceModel, self).__init__()\n",
        "        self.key = key  # Secret key for obfuscation\n",
        "        self.correct_key = SECRET_KEY  # Store the correct key for verification\n",
        "        self.conv1 = nn.Conv2d(1, 64, kernel_size=3, padding=1)\n",
        "        self.conv2 = nn.Conv2d(64, 32, kernel_size=3, padding=1)\n",
        "        self.conv3 = nn.Conv2d(32, 1, kernel_size=3, padding=1)\n",
        "\n",
        "    def forward(self, x):\n",
        "        # Apply secret key to both weights and activations for each layer\n",
        "        x = torch.relu(self.conv1(x) * self.key)\n",
        "        x = torch.relu(self.conv2(x * self.key))\n",
        "        x = torch.sigmoid(self.conv3(x * self.key))\n",
        "        return x\n",
        "\n",
        "    def is_key_correct(self):\n",
        "        # Check if the provided key matches the correct key\n",
        "        return self.key == self.correct_key\n",
        "\n",
        "# Load and preprocess the dataset (using MNIST as an example for simplicity)\n",
        "transform = transforms.Compose([\n",
        "    transforms.Resize((16, 16)),  # Lower resolution\n",
        "    transforms.ToTensor()\n",
        "])\n",
        "\n",
        "train_dataset = datasets.MNIST(root='./data', train=True, transform=transform, download=True)\n",
        "test_dataset = datasets.MNIST(root='./data', train=False, transform=transform, download=True)\n",
        "train_loader = DataLoader(train_dataset, batch_size=BATCH_SIZE, shuffle=True)\n",
        "test_loader = DataLoader(test_dataset, batch_size=1, shuffle=False)\n",
        "\n",
        "# Initialize the model, loss function, and optimizer\n",
        "model = PixEnhanceModel(SECRET_KEY)\n",
        "criterion = nn.MSELoss()\n",
        "optimizer = optim.Adam(model.parameters(), lr=LEARNING_RATE)\n",
        "\n",
        "# Training loop with obfuscation (using the key)\n",
        "def train(model, data_loader, criterion, optimizer):\n",
        "    model.train()\n",
        "    for epoch in range(NUM_EPOCHS):\n",
        "        total_loss = 0\n",
        "        for inputs, _ in data_loader:\n",
        "            # Resize low-res input and target to the same scale\n",
        "            inputs = inputs\n",
        "            target = torch.nn.functional.interpolate(inputs, scale_factor=2, mode='bilinear', align_corners=False)\n",
        "\n",
        "            # Downscale the target back to 16x16 for matching model output size\n",
        "            target = torch.nn.functional.interpolate(target, scale_factor=0.5, mode='bilinear', align_corners=False)\n",
        "\n",
        "            optimizer.zero_grad()\n",
        "            outputs = model(inputs)\n",
        "            loss = criterion(outputs, target)\n",
        "            loss.backward()\n",
        "            for param in model.parameters():\n",
        "                # Obfuscate weights directly based on the key to enhance dependency\n",
        "                param.data -= model.key * LEARNING_RATE * param.grad.data\n",
        "            optimizer.step()\n",
        "            total_loss += loss.item()\n",
        "        print(f\"Epoch {epoch+1}/{NUM_EPOCHS}, Loss: {total_loss/len(data_loader)}\")\n",
        "\n",
        "# Evaluation function with key check to control output display\n",
        "def evaluate(model, data_loader, title=\"Evaluation\"):\n",
        "    if not model.is_key_correct():\n",
        "        print(\"Incorrect key provided. Unable to display results.\")\n",
        "        return  # Skip the display if the key is incorrect\n",
        "\n",
        "    model.eval()\n",
        "    inputs, _ = next(iter(data_loader))\n",
        "    inputs = inputs\n",
        "    target = torch.nn.functional.interpolate(inputs, scale_factor=2, mode='bilinear', align_corners=False)\n",
        "\n",
        "    with torch.no_grad():\n",
        "        outputs = model(inputs)\n",
        "\n",
        "    # Plot results\n",
        "    fig, axs = plt.subplots(1, 3, figsize=(12, 4))\n",
        "    axs[0].imshow(inputs[0][0].cpu(), cmap='gray')\n",
        "    axs[0].set_title(\"Low-Resolution Input\")\n",
        "    axs[1].imshow(outputs[0][0].cpu(), cmap='gray')\n",
        "    axs[1].set_title(f\"{title} Output\")\n",
        "    axs[2].imshow(target[0][0].cpu(), cmap='gray')\n",
        "    axs[2].set_title(\"High-Resolution Target\")\n",
        "    plt.show()\n",
        "\n",
        "# Train the model\n",
        "print(\"Training the locked model...\")\n",
        "train(model, train_loader, criterion, optimizer)\n",
        "\n",
        "# Evaluate with the correct key\n",
        "print(\"\\nEvaluating the locked model with the correct key...\")\n",
        "evaluate(model, test_loader, title=\"Correct Key\")\n",
        "\n",
        "# Simulate unauthorized usage by changing the key and re-evaluating\n",
        "model.key = 0  # Unauthorized usage without the correct key\n",
        "print(\"\\nEvaluating model without the correct key (simulating unauthorized usage)...\")\n",
        "evaluate(model, test_loader, title=\"Incorrect Key\")\n"
      ],
      "metadata": {
        "colab": {
          "base_uri": "https://localhost:8080/",
          "height": 616
        },
        "id": "XHxvnBHcwmAs",
        "outputId": "dae5fc5e-19ed-44ff-def5-dc875843c79b"
      },
      "execution_count": 2,
      "outputs": [
        {
          "output_type": "stream",
          "name": "stderr",
          "text": [
            "100%|██████████| 9.91M/9.91M [00:00<00:00, 35.4MB/s]\n",
            "100%|██████████| 28.9k/28.9k [00:00<00:00, 1.33MB/s]\n",
            "100%|██████████| 1.65M/1.65M [00:00<00:00, 10.5MB/s]\n",
            "100%|██████████| 4.54k/4.54k [00:00<00:00, 4.69MB/s]\n"
          ]
        },
        {
          "output_type": "stream",
          "name": "stdout",
          "text": [
            "Training the locked model...\n",
            "Epoch 1/5, Loss: 0.01851845608171425\n",
            "Epoch 2/5, Loss: 1.9966784824525045e-05\n",
            "Epoch 3/5, Loss: 1.1167639648071296e-05\n",
            "Epoch 4/5, Loss: 8.508714496929314e-06\n",
            "Epoch 5/5, Loss: 7.434648647752814e-06\n",
            "\n",
            "Evaluating the locked model with the correct key...\n"
          ]
        },
        {
          "output_type": "display_data",
          "data": {
            "text/plain": [
              "<Figure size 1200x400 with 3 Axes>"
            ],
            "image/png": "[encoded data removed]"
          },
          "metadata": {}
        },
        {
          "output_type": "stream",
          "name": "stdout",
          "text": [
            "\n",
            "Evaluating model without the correct key (simulating unauthorized usage)...\n",
            "Incorrect key provided. Unable to display results.\n"
          ]
        }
      ]
    },
    {
      "cell_type": "markdown",
      "source": [
        "*Presentation Link:*\n",
        "\n",
        "https://docs.google.com/presentation/d/1XILkQ7DHb9Y_OtNDyCuojGniu2KNkmrV/edit#slide=id.p1"
      ],
      "metadata": {
        "id": "74Zt1-mdzPnN"
      }
    },
    {
      "cell_type": "markdown",
      "source": [],
      "metadata": {
        "id": "u7EIoFwpzXDH"
      }
    },
    {
      "cell_type": "markdown",
      "source": [
        "*Report Link:*\n",
        "\n",
        "https://drive.google.com/file/d/1ZPFhpxFVpsTxTw24VApGzsAAiMaQqlIt/view?usp=sharing\n",
        "\n"
      ],
      "metadata": {
        "id": "LthI-ZDyz3c5"
      }
    },
    {
      "cell_type": "markdown",
      "source": [],
      "metadata": {
        "id": "XZ-SO6UZ0cN6"
      }
    }
  ]
}