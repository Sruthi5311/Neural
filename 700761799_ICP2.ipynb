{
  "nbformat": 4,
  "nbformat_minor": 0,
  "metadata": {
    "colab": {
      "provenance": [],
      "authorship_tag": "ABX9TyMuRyaYEBgiN0vfw2LMCHdw",
      "include_colab_link": true
    },
    "kernelspec": {
      "name": "python3",
      "display_name": "Python 3"
    },
    "language_info": {
      "name": "python"
    }
  },
  "cells": [
    {
      "cell_type": "markdown",
      "metadata": {
        "id": "view-in-github",
        "colab_type": "text"
      },
      "source": [
        "<a href=\"https://colab.research.google.com/github/Sruthi5311/Neural/blob/ICP2/700761799_ICP2.ipynb\" target=\"_parent\"><img src=\"https://colab.research.google.com/assets/colab-badge.svg\" alt=\"Open In Colab\"/></a>"
      ]
    },
    {
      "cell_type": "markdown",
      "source": [
        "Venkata Sruthi Kakumani\n",
        "\n",
        "700761799"
      ],
      "metadata": {
        "id": "fdhep7ZyLDQH"
      }
    },
    {
      "cell_type": "markdown",
      "source": [
        "1.Create a class Employee and then do the following:\n",
        "\n",
        "• Create a data member to count the number of Employees\n",
        "\n",
        "• Create a constructor to initialize name, family, salary, department\n",
        "\n",
        "• Create a function to average salary\n",
        "\n",
        "• Create a Fulltime Employee class and it should inherit the properties of Employee class\n",
        "\n",
        "• Create the instances of Fulltime Employee class and Employee class and call their member functions.\n"
      ],
      "metadata": {
        "id": "HHf7kJmDLUA6"
      }
    },
    {
      "cell_type": "code",
      "source": [
        "class Employee:\n",
        "    employee_count = 0  # Data member to count the number of Employees\n",
        "\n",
        "    def __init__(self, name, family, salary, department):\n",
        "        self.name = name\n",
        "        self.family = family\n",
        "        self.salary = salary\n",
        "        self.department = department\n",
        "        Employee.employee_count += 1\n",
        "\n",
        "    def average_salary(self, total_salary):\n",
        "        return total_salary / Employee.employee_count\n",
        "\n",
        "class FulltimeEmployee(Employee):\n",
        "    # Inheriting properties from the Employee class\n",
        "    pass\n",
        "\n",
        "# Creating instances of Employee class\n",
        "employee1 = Employee(\"Sruthi\", \"Kakumani\", 100000, \"Manager\")\n",
        "employee2 = Employee(\"Babbulu\", \"Veepuri\", 90000, \"IT\")\n",
        "\n",
        "# Creating instances of FulltimeEmployee class\n",
        "fulltime_employee1 = FulltimeEmployee(\"Raju\", \"Varma\", 75000, \"Finance\")\n",
        "fulltime_employee2 = FulltimeEmployee(\"Lohi\", \"datta\", 60000, \"Marketing\")\n",
        "\n",
        "# Calling member functions\n",
        "total_salary_employees = employee1.salary + employee2.salary\n",
        "average_salary_employees = employee1.average_salary(total_salary_employees)\n",
        "\n",
        "total_salary_fulltime_employees = fulltime_employee1.salary + fulltime_employee2.salary\n",
        "average_salary_fulltime_employees = fulltime_employee1.average_salary(total_salary_fulltime_employees)\n",
        "\n",
        "# Displaying results\n",
        "print(\"Average Salary for Employees:\", average_salary_employees)\n",
        "print(\"Average Salary for Fulltime Employees:\", average_salary_fulltime_employees)\n",
        "print(\"Total Employees:\", Employee.employee_count)"
      ],
      "metadata": {
        "colab": {
          "base_uri": "https://localhost:8080/"
        },
        "id": "Md3QbAfELVpb",
        "outputId": "bd90c3c5-0fae-41d4-d9e9-1ef4399dab39"
      },
      "execution_count": null,
      "outputs": [
        {
          "output_type": "stream",
          "name": "stdout",
          "text": [
            "Average Salary for Employees: 47500.0\n",
            "Average Salary for Fulltime Employees: 33750.0\n",
            "Total Employees: 4\n"
          ]
        }
      ]
    },
    {
      "cell_type": "markdown",
      "source": [
        "2.Numpy\n",
        "\n",
        "Using NumPy create random vector of size 20 having only float in the range 1-20.\n",
        "\n",
        "Then reshape the array to 4 by 5\n",
        "\n",
        "Then replace the max in each row by 0 (axis=1)"
      ],
      "metadata": {
        "id": "aXgsxZQqPCDj"
      }
    },
    {
      "cell_type": "code",
      "source": [
        "# Import the NumPy library and alias it as 'np' for brevity and convention.\n",
        "import numpy as np\n",
        "\n",
        "# Create a random vector of size 20 with floats in the range 1-20\n",
        "random_vector = np.random.uniform(1, 20, 20)\n",
        "\n",
        "print(\"Original Random Vector:\\n\", random_vector)"
      ],
      "metadata": {
        "colab": {
          "base_uri": "https://localhost:8080/"
        },
        "id": "Jttbhf6CPFEh",
        "outputId": "6f7b014f-8e24-4511-9194-821b21a2da37"
      },
      "execution_count": null,
      "outputs": [
        {
          "output_type": "stream",
          "name": "stdout",
          "text": [
            "Original Random Vector:\n",
            " [ 9.8866437   4.78490025  4.3787388  11.59741913  8.97211398 19.05191196\n",
            " 14.27345386 12.49422219  7.44831658 12.08723859  9.83075724  2.74889011\n",
            " 17.57379184  5.15172943 12.86341136  3.56287241  7.13488855  2.11767327\n",
            " 10.01872626 18.74353392]\n"
          ]
        }
      ]
    },
    {
      "cell_type": "code",
      "source": [
        "# Reshape the array to 4 by 5 (4 rows and 5 columns)\n",
        "reshaped_array = random_vector.reshape(4, 5)\n",
        "\n",
        "print(reshaped_array)\n"
      ],
      "metadata": {
        "colab": {
          "base_uri": "https://localhost:8080/"
        },
        "id": "QKzvYoZzPNpF",
        "outputId": "5fd49b28-19a3-4859-8f8e-d3cbeccf35c4"
      },
      "execution_count": null,
      "outputs": [
        {
          "output_type": "stream",
          "name": "stdout",
          "text": [
            "[[ 9.8866437   4.78490025  4.3787388  11.59741913  8.97211398]\n",
            " [19.05191196 14.27345386 12.49422219  7.44831658 12.08723859]\n",
            " [ 9.83075724  2.74889011 17.57379184  5.15172943 12.86341136]\n",
            " [ 3.56287241  7.13488855  2.11767327 10.01872626 18.74353392]]\n"
          ]
        }
      ]
    },
    {
      "cell_type": "code",
      "source": [
        "# Replace the max in each row by 0 (axis=1)\n",
        "reshaped_array[np.arange(4), reshaped_array.argmax(axis=1)] = 0\n",
        "\n",
        "print(\"Reshaped Array:\\n\", reshaped_array)"
      ],
      "metadata": {
        "colab": {
          "base_uri": "https://localhost:8080/"
        },
        "id": "92r_0-3sPRty",
        "outputId": "9109742f-337a-4b91-8cf0-067f7989b557"
      },
      "execution_count": null,
      "outputs": [
        {
          "output_type": "stream",
          "name": "stdout",
          "text": [
            "Reshaped Array:\n",
            " [[ 9.8866437   4.78490025  4.3787388   0.          8.97211398]\n",
            " [ 0.         14.27345386 12.49422219  7.44831658 12.08723859]\n",
            " [ 9.83075724  2.74889011  0.          5.15172943 12.86341136]\n",
            " [ 3.56287241  7.13488855  2.11767327 10.01872626  0.        ]]\n"
          ]
        }
      ]
    }
  ]
}